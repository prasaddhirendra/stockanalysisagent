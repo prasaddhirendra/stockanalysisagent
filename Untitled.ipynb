{
 "cells": [
  {
   "cell_type": "code",
   "execution_count": 6,
   "id": "2e66fc89-aae2-4559-b17d-dd2346def84a",
   "metadata": {},
   "outputs": [
    {
     "name": "stdout",
     "output_type": "stream",
     "text": [
      "C:\\Users\\dhirendra.prasad_equ\\AppData\\Local\\Programs\\Python\\Python310\\python.exe\n"
     ]
    }
   ],
   "source": [
    "import sys\n",
    "print(sys.executable)\n"
   ]
  },
  {
   "cell_type": "code",
   "execution_count": 7,
   "id": "445720fa-a9f3-4abc-8cea-be29f45b1836",
   "metadata": {},
   "outputs": [
    {
     "name": "stdout",
     "output_type": "stream",
     "text": [
      "Collecting yfinance\n",
      "  Using cached yfinance-0.2.65-py2.py3-none-any.whl (119 kB)\n",
      "Collecting frozendict>=2.3.4\n",
      "  Using cached frozendict-2.4.6-cp310-cp310-win_amd64.whl (37 kB)\n",
      "Requirement already satisfied: pandas>=1.3.0 in c:\\users\\dhirendra.prasad_equ\\appdata\\local\\programs\\python\\python310\\lib\\site-packages (from yfinance) (2.3.1)\n",
      "Requirement already satisfied: pytz>=2022.5 in c:\\users\\dhirendra.prasad_equ\\appdata\\local\\programs\\python\\python310\\lib\\site-packages (from yfinance) (2025.2)\n",
      "Requirement already satisfied: numpy>=1.16.5 in c:\\users\\dhirendra.prasad_equ\\appdata\\local\\programs\\python\\python310\\lib\\site-packages (from yfinance) (2.2.6)\n",
      "Requirement already satisfied: beautifulsoup4>=4.11.1 in c:\\users\\dhirendra.prasad_equ\\appdata\\local\\programs\\python\\python310\\lib\\site-packages (from yfinance) (4.13.4)\n",
      "Requirement already satisfied: requests>=2.31 in c:\\users\\dhirendra.prasad_equ\\appdata\\local\\programs\\python\\python310\\lib\\site-packages (from yfinance) (2.32.4)\n",
      "Requirement already satisfied: platformdirs>=2.0.0 in c:\\users\\dhirendra.prasad_equ\\appdata\\local\\programs\\python\\python310\\lib\\site-packages (from yfinance) (4.3.8)\n",
      "Collecting curl_cffi>=0.7\n",
      "  Using cached curl_cffi-0.13.0-cp39-abi3-win_amd64.whl (1.6 MB)\n",
      "Collecting websockets>=13.0\n",
      "  Using cached websockets-15.0.1-cp310-cp310-win_amd64.whl (176 kB)\n",
      "Collecting multitasking>=0.0.7\n",
      "  Using cached multitasking-0.0.12-py3-none-any.whl\n",
      "Collecting peewee>=3.16.2\n",
      "  Using cached peewee-3.18.2-py3-none-any.whl\n",
      "Requirement already satisfied: protobuf>=3.19.0 in c:\\users\\dhirendra.prasad_equ\\appdata\\local\\programs\\python\\python310\\lib\\site-packages (from yfinance) (6.32.0)\n",
      "Requirement already satisfied: typing-extensions>=4.0.0 in c:\\users\\dhirendra.prasad_equ\\appdata\\local\\programs\\python\\python310\\lib\\site-packages (from beautifulsoup4>=4.11.1->yfinance) (4.14.1)\n",
      "Requirement already satisfied: soupsieve>1.2 in c:\\users\\dhirendra.prasad_equ\\appdata\\local\\programs\\python\\python310\\lib\\site-packages (from beautifulsoup4>=4.11.1->yfinance) (2.7)\n",
      "Requirement already satisfied: cffi>=1.12.0 in c:\\users\\dhirendra.prasad_equ\\appdata\\local\\programs\\python\\python310\\lib\\site-packages (from curl_cffi>=0.7->yfinance) (1.17.1)\n",
      "Requirement already satisfied: certifi>=2024.2.2 in c:\\users\\dhirendra.prasad_equ\\appdata\\local\\programs\\python\\python310\\lib\\site-packages (from curl_cffi>=0.7->yfinance) (2025.8.3)\n",
      "Requirement already satisfied: tzdata>=2022.7 in c:\\users\\dhirendra.prasad_equ\\appdata\\local\\programs\\python\\python310\\lib\\site-packages (from pandas>=1.3.0->yfinance) (2025.2)\n",
      "Requirement already satisfied: python-dateutil>=2.8.2 in c:\\users\\dhirendra.prasad_equ\\appdata\\local\\programs\\python\\python310\\lib\\site-packages (from pandas>=1.3.0->yfinance) (2.9.0.post0)\n",
      "Requirement already satisfied: idna<4,>=2.5 in c:\\users\\dhirendra.prasad_equ\\appdata\\local\\programs\\python\\python310\\lib\\site-packages (from requests>=2.31->yfinance) (3.10)\n",
      "Requirement already satisfied: urllib3<3,>=1.21.1 in c:\\users\\dhirendra.prasad_equ\\appdata\\local\\programs\\python\\python310\\lib\\site-packages (from requests>=2.31->yfinance) (2.5.0)\n",
      "Requirement already satisfied: charset_normalizer<4,>=2 in c:\\users\\dhirendra.prasad_equ\\appdata\\local\\programs\\python\\python310\\lib\\site-packages (from requests>=2.31->yfinance) (3.4.3)\n",
      "Requirement already satisfied: pycparser in c:\\users\\dhirendra.prasad_equ\\appdata\\local\\programs\\python\\python310\\lib\\site-packages (from cffi>=1.12.0->curl_cffi>=0.7->yfinance) (2.22)\n",
      "Requirement already satisfied: six>=1.5 in c:\\users\\dhirendra.prasad_equ\\appdata\\local\\programs\\python\\python310\\lib\\site-packages (from python-dateutil>=2.8.2->pandas>=1.3.0->yfinance) (1.17.0)\n",
      "Installing collected packages: peewee, multitasking, websockets, frozendict, curl_cffi, yfinance\n",
      "Successfully installed curl_cffi-0.13.0 frozendict-2.4.6 multitasking-0.0.12 peewee-3.18.2 websockets-15.0.1 yfinance-0.2.65\n"
     ]
    },
    {
     "name": "stderr",
     "output_type": "stream",
     "text": [
      "\n",
      "[notice] A new release of pip is available: 23.0.1 -> 25.2\n",
      "[notice] To update, run: C:\\Users\\dhirendra.prasad_equ\\AppData\\Local\\Programs\\Python\\Python310\\python.exe -m pip install --upgrade pip\n"
     ]
    }
   ],
   "source": [
    "!C:/Users/dhirendra.prasad_equ/AppData/Local/Programs/Python/Python310/python.exe -m pip install yfinance --upgrade\n"
   ]
  },
  {
   "cell_type": "code",
   "execution_count": 9,
   "id": "2c4e3b52-8657-423f-a680-44a3465f63a4",
   "metadata": {},
   "outputs": [
    {
     "name": "stdout",
     "output_type": "stream",
     "text": [
      "Name: yfinance\n",
      "Version: 0.2.65\n",
      "Summary: Download market data from Yahoo! Finance API\n",
      "Home-page: https://github.com/ranaroussi/yfinance\n",
      "Author: Ran Aroussi\n",
      "Author-email: ran@aroussi.com\n",
      "License: Apache\n",
      "Location: d:\\gen ai project\\stockanalysisagent\\myenv\\lib\\site-packages\n",
      "Requires: beautifulsoup4, curl_cffi, frozendict, multitasking, numpy, pandas, peewee, platformdirs, protobuf, pytz, requests, websockets\n",
      "Required-by: \n",
      "C:\\Users\\dhirendra.prasad_equ\\AppData\\Local\\Programs\\Python\\Python310\\python.exe\n"
     ]
    }
   ],
   "source": [
    "!pip show yfinance\n",
    "import sys\n",
    "print(sys.executable)\n",
    "import yfinance as yf \n",
    "stock = yf.Ticker(\"RELIANCE.NS\")\n",
    "info = stock.info\n",
    "history = stock.history(period=\"1y\")\n",
    "\n",
    "prices = history[\"Close\"].tolist()"
   ]
  },
  {
   "cell_type": "code",
   "execution_count": 3,
   "id": "9bb926ac-158a-49f6-93df-554a0aeace99",
   "metadata": {},
   "outputs": [
    {
     "ename": "ModuleNotFoundError",
     "evalue": "No module named 'yfinance'",
     "output_type": "error",
     "traceback": [
      "\u001b[1;31m---------------------------------------------------------------------------\u001b[0m",
      "\u001b[1;31mModuleNotFoundError\u001b[0m                       Traceback (most recent call last)",
      "Cell \u001b[1;32mIn[3], line 1\u001b[0m\n\u001b[1;32m----> 1\u001b[0m \u001b[38;5;28;01mimport\u001b[39;00m\u001b[38;5;250m \u001b[39m\u001b[38;5;21;01myfinance\u001b[39;00m\u001b[38;5;250m \u001b[39m\u001b[38;5;28;01mas\u001b[39;00m\u001b[38;5;250m \u001b[39m\u001b[38;5;21;01myf\u001b[39;00m \n\u001b[0;32m      2\u001b[0m stock \u001b[38;5;241m=\u001b[39m yf\u001b[38;5;241m.\u001b[39mTicker(\u001b[38;5;124m\"\u001b[39m\u001b[38;5;124mRELIANCE.NS\u001b[39m\u001b[38;5;124m\"\u001b[39m)\n\u001b[0;32m      3\u001b[0m info \u001b[38;5;241m=\u001b[39m stock\u001b[38;5;241m.\u001b[39minfo\n",
      "\u001b[1;31mModuleNotFoundError\u001b[0m: No module named 'yfinance'"
     ]
    }
   ],
   "source": []
  },
  {
   "cell_type": "code",
   "execution_count": 10,
   "id": "0ecbc83d-f4f0-4ab1-a68a-c532d8368af9",
   "metadata": {},
   "outputs": [
    {
     "name": "stdout",
     "output_type": "stream",
     "text": [
      "D:\\Gen AI Project\\StockAnalysisAgent\\myenv\\Scripts\\python.exe\n",
      "C:\\Users\\dhirendra.prasad_equ\\AppData\\Local\\Programs\\Python\\Python310\\python.exe\n",
      "C:\\Users\\dhirendra.prasad_equ\\AppData\\Local\\Microsoft\\WindowsApps\\python.exe\n"
     ]
    },
    {
     "name": "stderr",
     "output_type": "stream",
     "text": [
      "INFO: Could not find \"#\".\n",
      "INFO: Could not find \"Windows\".\n"
     ]
    }
   ],
   "source": [
    "!where python   # Windows"
   ]
  }
 ],
 "metadata": {
  "kernelspec": {
   "display_name": "Python 3 (ipykernel)",
   "language": "python",
   "name": "python3"
  },
  "language_info": {
   "codemirror_mode": {
    "name": "ipython",
    "version": 3
   },
   "file_extension": ".py",
   "mimetype": "text/x-python",
   "name": "python",
   "nbconvert_exporter": "python",
   "pygments_lexer": "ipython3",
   "version": "3.10.11"
  }
 },
 "nbformat": 4,
 "nbformat_minor": 5
}
